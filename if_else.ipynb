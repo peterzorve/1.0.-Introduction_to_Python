{
 "cells": [
  {
   "attachments": {},
   "cell_type": "markdown",
   "metadata": {},
   "source": [
    "### IF, ELIF, ELSE"
   ]
  },
  {
   "cell_type": "code",
   "execution_count": 1,
   "metadata": {},
   "outputs": [
    {
     "name": "stdout",
     "output_type": "stream",
     "text": [
      "1 less than 12\n"
     ]
    }
   ],
   "source": [
    "count = 1\n",
    "\n",
    "if count < 12:\n",
    "    print(count, 'less than 12')\n",
    "else: \n",
    "    print(count, 'greater or equal 12')\n",
    "    print(count * 10)\n",
    "    print(count)"
   ]
  },
  {
   "cell_type": "code",
   "execution_count": 2,
   "metadata": {},
   "outputs": [
    {
     "name": "stdout",
     "output_type": "stream",
     "text": [
      "10  <  15\n"
     ]
    }
   ],
   "source": [
    "\n",
    "count_1 = 10\n",
    "count_2 = 15\n",
    "\n",
    "if count_1 < count_2 and count_1 > 5:\n",
    "    print(count_1, ' < ', count_2)\n",
    "else: \n",
    "    print(count_1, ' >= ', count_2)"
   ]
  },
  {
   "cell_type": "code",
   "execution_count": 8,
   "metadata": {},
   "outputs": [
    {
     "name": "stdout",
     "output_type": "stream",
     "text": [
      "20 °C  : it is normal\n"
     ]
    }
   ],
   "source": [
    "\n",
    "temperature = 20\n",
    "\n",
    "\n",
    "if temperature < 15:\n",
    "    print(temperature, '°C  : it is very cold')\n",
    "elif temperature < 20: \n",
    "    print(temperature, '°C  : it is still cold')\n",
    "elif temperature < 30:\n",
    "    print(temperature, '°C  : it is normal')\n",
    "elif temperature < 40: \n",
    "    print(temperature, '°C  : too is normal')\n",
    "elif temperature < 50:\n",
    "    print(temperature, '°C  : it beginning to get hot')\n",
    "else:\n",
    "    print(temperature, '°C  : it is very hot')"
   ]
  },
  {
   "cell_type": "code",
   "execution_count": 9,
   "metadata": {},
   "outputs": [
    {
     "name": "stdout",
     "output_type": "stream",
     "text": [
      "10 is equal to or less than 10\n"
     ]
    }
   ],
   "source": [
    "number_1 = 10\n",
    "number_2 = 15\n",
    "\n",
    "\n",
    "if number_1 > 10:\n",
    "    print(number_1, 'is greater than 10')\n",
    "else: \n",
    "    print(number_1, 'is equal to or less than 10')"
   ]
  },
  {
   "cell_type": "code",
   "execution_count": 12,
   "metadata": {},
   "outputs": [
    {
     "name": "stdout",
     "output_type": "stream",
     "text": [
      "1 is more than 0\n"
     ]
    }
   ],
   "source": [
    "number_2 = 1\n",
    "\n",
    "\n",
    "if number_2 > 5:\n",
    "    print(number_2, 'is more than 5')\n",
    "elif number_2 > 3:\n",
    "    print(number_2, 'is nore than 3')\n",
    "elif number_2 > 0:\n",
    "    print(number_2, 'is more than 0')\n",
    "else: \n",
    "    print(number_2, 'is less than or equal to 0') "
   ]
  }
 ],
 "metadata": {
  "kernelspec": {
   "display_name": "deeplearning",
   "language": "python",
   "name": "python3"
  },
  "language_info": {
   "codemirror_mode": {
    "name": "ipython",
    "version": 3
   },
   "file_extension": ".py",
   "mimetype": "text/x-python",
   "name": "python",
   "nbconvert_exporter": "python",
   "pygments_lexer": "ipython3",
   "version": "3.8.13"
  },
  "orig_nbformat": 4,
  "vscode": {
   "interpreter": {
    "hash": "6a29e2c6032db948d2ac4841a3008c24c124c9d60225cd5bb2e940e04b511554"
   }
  }
 },
 "nbformat": 4,
 "nbformat_minor": 2
}
