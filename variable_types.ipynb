{
 "cells": [
  {
   "attachments": {},
   "cell_type": "markdown",
   "metadata": {},
   "source": [
    "### The types of Variables in Python include:\n",
    "\n",
    "\n",
    "\n",
    "\n",
    "    1.  Integer\n",
    "    2.  Float \n",
    "    3.  String\n",
    "    4.  Boolean (True or False)\n",
    "    5.  List \n",
    "    6.  Tuple \n",
    "    7.  Dictionary \n",
    "    8.  Set "
   ]
  },
  {
   "attachments": {},
   "cell_type": "markdown",
   "metadata": {},
   "source": [
    "### 1. Integer\n",
    "    Integer - An integer is a negative and positive whole number including 0"
   ]
  },
  {
   "cell_type": "code",
   "execution_count": 16,
   "metadata": {},
   "outputs": [
    {
     "name": "stdout",
     "output_type": "stream",
     "text": [
      "12\n",
      "<class 'int'>\n",
      "<class 'int'>\n"
     ]
    }
   ],
   "source": [
    "number = 12\n",
    "count = -10000\n",
    "\n",
    "print(number)\n",
    "print(type(number))\n",
    "print(type(count))"
   ]
  },
  {
   "attachments": {},
   "cell_type": "markdown",
   "metadata": {},
   "source": [
    "### 2.  Float \n",
    "    A float can be thought of as a number with a decimal point"
   ]
  },
  {
   "cell_type": "code",
   "execution_count": 17,
   "metadata": {},
   "outputs": [
    {
     "name": "stdout",
     "output_type": "stream",
     "text": [
      "12.0\n",
      "<class 'float'>\n"
     ]
    }
   ],
   "source": [
    "number1 = 12.0\n",
    "salary_rate = 12.45\n",
    "\n",
    "print(number1)\n",
    "print(type(number1))"
   ]
  },
  {
   "attachments": {},
   "cell_type": "markdown",
   "metadata": {},
   "source": [
    "### 3. String\n",
    "    A string is a variable/character with no numerical value. We represent strings by putting them within a quotation marks (' ' or \" \") "
   ]
  },
  {
   "cell_type": "code",
   "execution_count": 18,
   "metadata": {},
   "outputs": [
    {
     "name": "stdout",
     "output_type": "stream",
     "text": [
      "Peter Zorve\n",
      "<class 'str'>\n"
     ]
    }
   ],
   "source": [
    "my_name = \"Peter Zorve\"\n",
    "sentence = 'I am very hungry and tired'\n",
    "\n",
    "print(my_name)\n",
    "print(type(sentence))"
   ]
  },
  {
   "attachments": {},
   "cell_type": "markdown",
   "metadata": {},
   "source": [
    "### 4.  Boolean\n",
    "    A boolean is just True or False. In Python, we use the keywords True or False"
   ]
  },
  {
   "cell_type": "code",
   "execution_count": 19,
   "metadata": {},
   "outputs": [
    {
     "name": "stdout",
     "output_type": "stream",
     "text": [
      "True\n",
      "<class 'bool'>\n"
     ]
    }
   ],
   "source": [
    "hungry = True\n",
    "print(hungry)\n",
    "print(type(hungry))\n",
    "\n"
   ]
  },
  {
   "attachments": {},
   "cell_type": "markdown",
   "metadata": {},
   "source": [
    "### 5.  List \n",
    "    A list is a collection of items. We represent lists by putting the items in a square parenthesis, []"
   ]
  },
  {
   "cell_type": "code",
   "execution_count": 20,
   "metadata": {},
   "outputs": [
    {
     "name": "stdout",
     "output_type": "stream",
     "text": [
      "[10, 12, 23, 50, 80]\n",
      "<class 'list'>\n",
      "['Peter', 'Kwame', 'name', 50.0, 18, 0.001]\n",
      "<class 'list'>\n"
     ]
    }
   ],
   "source": [
    "my_list = [10, 12, 23, 50, 80] \n",
    "my_list_2 = ['Peter', 'Kwame', 'name', 50., 18, 0.001]\n",
    "\n",
    "print(my_list)\n",
    "print(type(my_list)) \n",
    "\n",
    "print(my_list_2)\n",
    "print(type(my_list_2))\n",
    "\n"
   ]
  },
  {
   "attachments": {},
   "cell_type": "markdown",
   "metadata": {},
   "source": [
    "### 6.  Tuple \n",
    "    A tuple is like a list. We tuple is defined with a parenthesis, (). We will discuss the difference between a list and a tuple later"
   ]
  },
  {
   "cell_type": "code",
   "execution_count": 21,
   "metadata": {},
   "outputs": [
    {
     "name": "stdout",
     "output_type": "stream",
     "text": [
      "(10, 'Kwame', 10.082128, True, False, 'shoes')\n",
      "<class 'tuple'>\n"
     ]
    }
   ],
   "source": [
    "my_tuple = (10, 'Kwame', 10.082128, True, False, 'shoes')\n",
    "print(my_tuple)\n",
    "print(type(my_tuple))\n",
    "\n"
   ]
  },
  {
   "attachments": {},
   "cell_type": "markdown",
   "metadata": {},
   "source": [
    "### 7.  Dictionary \n",
    "    A dictionary comes in the form of key-value pair. Think of it as the book dictionary - Words (key), and their meaning (value). We write dictionaries with curly parenthesis, {}  \"\"\"\n"
   ]
  },
  {
   "cell_type": "code",
   "execution_count": 22,
   "metadata": {},
   "outputs": [
    {
     "name": "stdout",
     "output_type": "stream",
     "text": [
      "{'name': 'Peter Zorve', 'age': 15, 'salary': 150.2, 12: 'I am very tired'}\n",
      "<class 'dict'>\n"
     ]
    }
   ],
   "source": [
    "my_dict = {'name': 'Peter Zorve', 'age' : 15, 'salary' : 150.20, 12 : 'I am very tired'} \n",
    "print(my_dict)\n",
    "print(type(my_dict))\n",
    "\n"
   ]
  },
  {
   "attachments": {},
   "cell_type": "markdown",
   "metadata": {},
   "source": [
    "### 8.  Set\n",
    "    A set is also a collection of items. We represent a set using curly parenthesis, but the elements are not key-value pairs"
   ]
  },
  {
   "cell_type": "code",
   "execution_count": 23,
   "metadata": {},
   "outputs": [
    {
     "name": "stdout",
     "output_type": "stream",
     "text": [
      "{'name', 'happy', 'tired', 'hungry'}\n",
      "<class 'set'>\n"
     ]
    }
   ],
   "source": [
    "my_set = {'name', 'hungry', 'tired', 'happy', 'name', 'name'}\n",
    "print(my_set)\n",
    "print(type(my_set))\n",
    "\n"
   ]
  }
 ],
 "metadata": {
  "kernelspec": {
   "display_name": "deeplearning",
   "language": "python",
   "name": "python3"
  },
  "language_info": {
   "codemirror_mode": {
    "name": "ipython",
    "version": 3
   },
   "file_extension": ".py",
   "mimetype": "text/x-python",
   "name": "python",
   "nbconvert_exporter": "python",
   "pygments_lexer": "ipython3",
   "version": "3.8.13"
  },
  "orig_nbformat": 4,
  "vscode": {
   "interpreter": {
    "hash": "6a29e2c6032db948d2ac4841a3008c24c124c9d60225cd5bb2e940e04b511554"
   }
  }
 },
 "nbformat": 4,
 "nbformat_minor": 2
}
