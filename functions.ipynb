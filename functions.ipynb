{
 "cells": [
  {
   "attachments": {},
   "cell_type": "markdown",
   "metadata": {},
   "source": [
    "### Functions"
   ]
  },
  {
   "cell_type": "code",
   "execution_count": 2,
   "metadata": {},
   "outputs": [
    {
     "name": "stdout",
     "output_type": "stream",
     "text": [
      "10 + 20 = 30\n"
     ]
    }
   ],
   "source": [
    "\n",
    "number1 = 10\n",
    "number2 = 20 \n",
    "\n",
    "add = 10\n",
    "summation = number1 + number2 \n",
    "\n",
    "print(number1, '+', number2,  '=', summation)\n"
   ]
  },
  {
   "cell_type": "code",
   "execution_count": 3,
   "metadata": {},
   "outputs": [
    {
     "name": "stdout",
     "output_type": "stream",
     "text": [
      "30 + 40 = 70\n",
      "10 + 20 = 30\n",
      "80 + 60 = 140\n",
      "100 + 80 = 180\n"
     ]
    }
   ],
   "source": [
    "def samuel_boateng(num1=0, num2=0):\n",
    "    result = num1 + num2 \n",
    "    print(num1, '+', num2,  '=', result)\n",
    "    return \n",
    "\n",
    "samuel_boateng(30, 40)\n",
    "samuel_boateng(10, 20)\n",
    "samuel_boateng(80, 60)\n",
    "samuel_boateng(100, 80)"
   ]
  },
  {
   "cell_type": "code",
   "execution_count": 4,
   "metadata": {},
   "outputs": [
    {
     "name": "stdout",
     "output_type": "stream",
     "text": [
      "*  *  *  *  *  *  *  *  *  *  *  *  *  *  *         \n",
      "*                                           * \n",
      "*                                           * \n",
      "*                                           * \n",
      "*                                           * \n",
      "*                                           * \n",
      "*                                           * \n",
      "*                                           * \n",
      "*                                           * \n",
      "*                                           * \n",
      "*                                           * \n",
      "*                                           * \n",
      "*                                           * \n",
      "*                                           * \n",
      "*                                           * \n",
      "*  *  *  *  *  *  *  *  *  *  *  *  *  *  *         \n",
      "                      15 cm\n"
     ]
    }
   ],
   "source": [
    "# Question 1. Write a function that accepts a number and print a square based on that number \n",
    "# For example, with a function named square \n",
    "# square(number, unit='cm')\n",
    "\n",
    "def square(number, unit):\n",
    "    for num in range(number):\n",
    "        if num == 0:\n",
    "            print('*  ' * number, '      ')\n",
    "        \n",
    "        elif num < number: \n",
    "            print('*  ', '   ' * (number - 2), '* ')\n",
    "\n",
    "        if num == (number-1):\n",
    "            print('*  ' * number, '      ')\n",
    "    \n",
    "    print('   ' * int(number/2) , number, unit)\n",
    "    return \n",
    "\n",
    "square(15, 'cm')"
   ]
  },
  {
   "cell_type": "code",
   "execution_count": 5,
   "metadata": {},
   "outputs": [
    {
     "data": {
      "text/plain": [
       "'?yadot gniog uoy era erehw'"
      ]
     },
     "execution_count": 5,
     "metadata": {},
     "output_type": "execute_result"
    }
   ],
   "source": [
    "def backtosender(ewiase):\n",
    "\n",
    "    length = len(ewiase)  \n",
    "    reverse = ''\n",
    "\n",
    "    for number in range(length):\n",
    "        character = ewiase[length - (number + 1 )]  \n",
    "        reverse = reverse + character\n",
    "\n",
    "    return reverse\n",
    "\n",
    "backtosender('where are you going today?')"
   ]
  },
  {
   "cell_type": "code",
   "execution_count": 6,
   "metadata": {},
   "outputs": [
    {
     "name": "stdout",
     "output_type": "stream",
     "text": [
      "peter zorve25\n",
      "lara funke125\n",
      "faith edem\n",
      "kenny edem12\n",
      "kojo sammy235\n",
      "ama lara16\n",
      "adeyele kumi999999\n",
      "bismark asamoah\n",
      "john mireku\n",
      "youth agam\n",
      "entry james\n",
      "kofi antwi\n",
      "peter.zorve@gmail.com\n",
      "lara.funke@gmail.com\n",
      "faith.edem@yahoo.com\n",
      "kenny.edem@yahoo.com\n",
      "kojo.sammy@gmail.com\n",
      "ama.lara@yahoo.com\n",
      "adeyele.kumi@yahoo.com\n",
      "bismark.asamoah@yahoo.com\n",
      "john.mireku@uef.fi\n",
      "youth.agam@uef.fi\n",
      "entry.james@uef.fi\n",
      "kofi.antwi@uef.fi\n"
     ]
    }
   ],
   "source": [
    "\"\"\"\n",
    "Question 3. Write a function to extract the first name, second name and date of birth from the data below. \n",
    "\n",
    "my_dictionary = {   'emails'    :  ['peter.zorve25@gmail.com', 'lara.funke125@gmail.com', 'faith.edem@yahoo.com', 'kenny.edem12@yahoo.com', 'kojo.sammy235@gmail.com', 'ama.lara16@yahoo.com', 'adeyele.kumi999999@yahoo.com', 'bismark.asamoah@yahoo.com', 'john.mireku@uef.fi', 'youth.agam@uef.fi', 'entry.james@uef.fi', 'kofi.antwi@uef.fi'], \n",
    "                    'id_number' :  ['27021990-THN', '28021990-IHE', '28121990-THE', '28021990-OHE', '28121990-JKE', '28061990-RHE', '27021980-POE', '28121990-ABC', '28021890-FGE', '28021990-LZE', '28021990-NAE', '28021990-THE' ]}\n",
    "\n",
    "\n",
    "OUTPUT \n",
    "\n",
    "Peter Zorve       -  27.02.1990\n",
    "Lara Funke        -  28.02.1990\n",
    "Faith Edem        -  28.12.1990\n",
    "Kenny Edem        -  28.02.1990\n",
    "Kojo Sammy        -  28.12.1990\n",
    "Ama Lara          -  28.06.1990\n",
    "Adeyele Kumi      -  27.02.1980\n",
    "Bismark Asamoah   -  28.12.1990\n",
    "John Mireku       -  28.02.1890\n",
    "Youth Agam        -  28.02.1990\n",
    "Entry James       -  28.02.1990\n",
    "Kofi Antwi        -  28.02.1990\n",
    "\n",
    "\"\"\"\n",
    "\n",
    "david = {   'emails'    :  ['peter.zorve25@gmail.com', 'lara.funke125@gmail.com', 'faith.edem@yahoo.com', 'kenny.edem12@yahoo.com', 'kojo.sammy235@gmail.com', 'ama.lara16@yahoo.com', 'adeyele.kumi999999@yahoo.com', 'bismark.asamoah@yahoo.com', 'john.mireku@uef.fi', 'youth.agam@uef.fi', 'entry.james@uef.fi', 'kofi.antwi@uef.fi'], \n",
    "            'id_number' :  ['27021990-THN', '28021990-IHE', '28121990-THE', '28021990-OHE', '28121990-JKE', '28061990-RHE', '27021980-POE', '28121990-ABC', '28021890-FGE', '28021990-LZE', '28021990-NAE', '28021990-THE' ]}\n",
    "\n",
    "\n",
    "all_emails = david['emails']\n",
    "\n",
    "\n",
    "for asamoah in all_emails:\n",
    "    philip = asamoah.split('.')\n",
    "    khoby = philip[0]\n",
    "    peter = philip[1].split('@')\n",
    "    daniel = peter[0]\n",
    "\n",
    "    print(khoby, daniel)\n",
    "\n",
    "\n",
    "for item in david['emails']:\n",
    "    name = ''\n",
    "    for character in item: \n",
    "        #  \n",
    "        if not character.isdigit(): \n",
    "            name = name + character\n",
    "            # break \n",
    "    print(name)\n",
    "\n",
    "\n"
   ]
  },
  {
   "cell_type": "code",
   "execution_count": 7,
   "metadata": {},
   "outputs": [],
   "source": [
    "david = {   'emails'    :  ['peter.zorve25@gmail.com', 'lara.funke125@gmail.com', 'faith.edem@yahoo.com', 'kenny.edem12@yahoo.com', 'kojo.sammy235@gmail.com', 'ama.lara16@yahoo.com', 'adeyele.kumi999999@yahoo.com', 'bismark.asamoah@yahoo.com', 'john.mireku@uef.fi', 'youth.agam@uef.fi', 'entry.james@uef.fi', 'kofi.antwi@uef.fi'], \n",
    "            'id_number' :  ['27021990-THN', '28021990-IHE', '28121990-THE', '28021990-OHE', '28121990-JKE', '28061990-RHE', '27021980-POE', '28121990-ABC', '28021890-FGE', '28021990-LZE', '28021990-NAE', '28021990-THE' ]}\n",
    "\n",
    "def extract(david):\n",
    "\n",
    "    first_last_name = []\n",
    "    date_of_birth = []\n",
    "\n",
    "    for item in david['emails']:\n",
    "        name = item.split('@')[0]\n",
    "\n",
    "        full_name = ''\n",
    "        for i in name: \n",
    "            if not i.isdigit():\n",
    "                full_name = full_name + i \n",
    "        \n",
    "        full_name = full_name.replace('.', ' ').title()\n",
    "\n",
    "        first_last_name.append(full_name)\n",
    "\n",
    "    for item in david['id_number']:\n",
    "        id = item[:2]+ '-' + item[2:4] + '-' + item[4:8]\n",
    "        date_of_birth.append(id)\n",
    "\n",
    "    for item in range(len(first_last_name)):\n",
    "        print(f\"{first_last_name[item]:15}  -  {date_of_birth[item]}\")\n",
    "    \n",
    "    return \n",
    "\n",
    "\n",
    "\n",
    "\n"
   ]
  },
  {
   "cell_type": "code",
   "execution_count": null,
   "metadata": {},
   "outputs": [],
   "source": []
  }
 ],
 "metadata": {
  "kernelspec": {
   "display_name": "deeplearning",
   "language": "python",
   "name": "python3"
  },
  "language_info": {
   "codemirror_mode": {
    "name": "ipython",
    "version": 3
   },
   "file_extension": ".py",
   "mimetype": "text/x-python",
   "name": "python",
   "nbconvert_exporter": "python",
   "pygments_lexer": "ipython3",
   "version": "3.8.13"
  },
  "orig_nbformat": 4,
  "vscode": {
   "interpreter": {
    "hash": "6a29e2c6032db948d2ac4841a3008c24c124c9d60225cd5bb2e940e04b511554"
   }
  }
 },
 "nbformat": 4,
 "nbformat_minor": 2
}
