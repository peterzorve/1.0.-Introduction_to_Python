{
 "cells": [
  {
   "cell_type": "code",
   "execution_count": null,
   "metadata": {},
   "outputs": [],
   "source": []
  },
  {
   "attachments": {},
   "cell_type": "markdown",
   "metadata": {},
   "source": [
    "### for loop"
   ]
  },
  {
   "cell_type": "code",
   "execution_count": 1,
   "metadata": {},
   "outputs": [
    {
     "name": "stdout",
     "output_type": "stream",
     "text": [
      "P\n",
      "e\n",
      "t\n",
      "e\n",
      "r\n",
      "\n",
      "12\n",
      "78\n",
      "\n",
      "sugars starts and ends with s\n"
     ]
    }
   ],
   "source": [
    "\n",
    "name = 'Peter'\n",
    "\n",
    "for i in name: \n",
    "    print(i)\n",
    "\n",
    "my_list = ['milk', 'sugars', 'salt', 'books', 'cake', '12', '15.1', '78']\n",
    "\n",
    "print()\n",
    "for item in my_list:\n",
    "    if item.isdigit():\n",
    "        print(item)\n",
    "\n",
    "print()\n",
    "for item in my_list:\n",
    "    if item.endswith('s') and item.startswith('s'):\n",
    "        print(item, 'starts and ends with s')"
   ]
  },
  {
   "cell_type": "code",
   "execution_count": 2,
   "metadata": {},
   "outputs": [
    {
     "name": "stdout",
     "output_type": "stream",
     "text": [
      "320 450 2 30 12 \n"
     ]
    }
   ],
   "source": [
    "sammy = 'Sammy  is a hard 320 working guy who earns GHC 450 every 2 weeks. He gives GHC 30 to his friend who has 12 children'\n",
    "\n",
    "tommy = sammy.split()\n",
    "tommy_is_empty = ''\n",
    "\n",
    "for item in tommy:\n",
    "    if item.isdigit():\n",
    "        tommy_is_empty = tommy_is_empty + item + ' '\n",
    "\n",
    "print(tommy_is_empty)\n",
    "\n",
    "\n"
   ]
  },
  {
   "cell_type": "code",
   "execution_count": 3,
   "metadata": {},
   "outputs": [
    {
     "name": "stdout",
     "output_type": "stream",
     "text": [
      "320 450 2 30 12\n"
     ]
    }
   ],
   "source": [
    "sammy = 'Sammy  is a hard 320 working guy who earns GHC 450 every 2 weeks. He gives GHC 30 to his friend who has 12 children'\n",
    "sammy_2 = ''\n",
    "for number in sammy:\n",
    "    if number.isdigit() or number == ' ':\n",
    "        sammy_2 = sammy_2 + number\n",
    "\n",
    "sammy_2 = sammy_2.strip()\n",
    "sammy_2 = sammy_2.replace('  ', ' ')\n",
    "sammy_2 = sammy_2.replace('  ', ' ')\n",
    "sammy_2 = sammy_2.replace('  ', ' ')\n",
    "print(sammy_2)"
   ]
  },
  {
   "attachments": {},
   "cell_type": "markdown",
   "metadata": {},
   "source": [
    "### While loop"
   ]
  },
  {
   "cell_type": "code",
   "execution_count": 5,
   "metadata": {},
   "outputs": [
    {
     "name": "stdout",
     "output_type": "stream",
     "text": [
      "5\n",
      "10\n",
      "15\n",
      "20\n",
      "25\n",
      "DDDDDDDDDDDD\n",
      "oooooooooooo\n",
      "nnnnnnnnnnnn\n",
      "''''''''''''\n",
      "\n",
      "o\n",
      "nn\n",
      "'''\n",
      "tttt\n",
      "     \n",
      "kkkkkk\n",
      "iiiiiii\n",
      "llllllll\n",
      "lllllllll\n",
      "          \n",
      "ttttttttttt\n",
      "hhhhhhhhhhhh\n",
      "eeeeeeeeeeeee\n",
      "              \n",
      "fffffffffffffff\n",
      "oooooooooooooooo\n",
      "xxxxxxxxxxxxxxxxx\n"
     ]
    }
   ],
   "source": [
    "count = 5 \n",
    "\n",
    "while count < 30:\n",
    "    print(count)\n",
    "    count = count + 5\n",
    "\n",
    "\n",
    "sentence = \"Don't kill the fox\"\n",
    "count = len(sentence)\n",
    "\n",
    "\n",
    "for stone in sentence[:4]: \n",
    "    print(stone * 12)\n",
    "\n",
    "start = 0 \n",
    "while start < count: \n",
    "    print(sentence[start] * start)\n",
    "    start = start + 1\n"
   ]
  }
 ],
 "metadata": {
  "kernelspec": {
   "display_name": "deeplearning",
   "language": "python",
   "name": "python3"
  },
  "language_info": {
   "codemirror_mode": {
    "name": "ipython",
    "version": 3
   },
   "file_extension": ".py",
   "mimetype": "text/x-python",
   "name": "python",
   "nbconvert_exporter": "python",
   "pygments_lexer": "ipython3",
   "version": "3.8.13"
  },
  "orig_nbformat": 4,
  "vscode": {
   "interpreter": {
    "hash": "6a29e2c6032db948d2ac4841a3008c24c124c9d60225cd5bb2e940e04b511554"
   }
  }
 },
 "nbformat": 4,
 "nbformat_minor": 2
}
