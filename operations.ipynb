{
 "cells": [
  {
   "cell_type": "code",
   "execution_count": null,
   "metadata": {},
   "outputs": [],
   "source": []
  },
  {
   "attachments": {},
   "cell_type": "markdown",
   "metadata": {},
   "source": [
    "### Arithmetic Operation\n",
    "    1.  Addition (+)\n",
    "    2.  Substraction (-)\n",
    "    3.  Multiplication (*)\n",
    "    4.  Division (/)\n",
    "    5.  Modulus (%)\n",
    "    6.  Exponents - Power (**)\n",
    "    7.  Floor Division (//)\n"
   ]
  },
  {
   "cell_type": "code",
   "execution_count": 1,
   "metadata": {},
   "outputs": [
    {
     "name": "stdout",
     "output_type": "stream",
     "text": [
      "Addition        ==>  50 + 3 = 53\n",
      "Substraction    ==>  50 - 3 = 47\n",
      "Multiplication  ==>  50 * 3 = 150\n",
      "Division        ==>  50 / 3 = 16.666666666666668\n",
      "Modulus         ==>  50 % 3 = 2\n",
      "Exponent        ==>  50 ** 3 = 125000\n",
      "Floor Division  ==>  50 // 3 = 16\n"
     ]
    }
   ],
   "source": [
    "number_1 = 50 \n",
    "number_2 = 3 \n",
    "\n",
    "\n",
    "# Addition \n",
    "\n",
    "print('Addition        ==> ', number_1, '+', number_2, '=',  number_1 + number_2)\n",
    "print('Substraction    ==> ', number_1, '-', number_2, '=',  number_1 - number_2)\n",
    "print('Multiplication  ==> ', number_1, '*', number_2, '=',  number_1 * number_2)\n",
    "print('Division        ==> ', number_1, '/', number_2, '=',  number_1 / number_2)\n",
    "print('Modulus         ==> ', number_1, '%', number_2, '=',  number_1 % number_2)\n",
    "print('Exponent        ==> ', number_1, '**', number_2, '=',  number_1 ** number_2)\n",
    "print('Floor Division  ==> ', number_1, '//', number_2, '=',  number_1 // number_2)\n"
   ]
  },
  {
   "attachments": {},
   "cell_type": "markdown",
   "metadata": {},
   "source": [
    "### Comparison Operations \n",
    "    1.  Less than (<)\n",
    "    2.  Greater than (>)\n",
    "    3.  Equal to (==)\n",
    "    4.  Less than or equal to (<=)\n",
    "    5.  Greater than or less than (>=)\n",
    "    6.  Not equal to (!=)"
   ]
  },
  {
   "cell_type": "code",
   "execution_count": 9,
   "metadata": {},
   "outputs": [
    {
     "name": "stdout",
     "output_type": "stream",
     "text": [
      "1.  10  < 55   :  True\n",
      "2.  10  < 30   :  True\n",
      "3.  55  > 30   :  True\n",
      "4.  30  < 55   :  False\n",
      "5.  10  == 10  :  True\n",
      "6.  10  == 55  :  False\n",
      "7.  30  <= 55  :  True\n",
      "8.  30  <= 30  :  True\n",
      "9.  10  >= 55  :  False\n",
      "10. 55  >= 30  :  True\n",
      "11. 55  != 10  :  True\n",
      "12. 55  != 30  :  True\n"
     ]
    }
   ],
   "source": [
    "number_3 = 10\n",
    "number_4 = 55\n",
    "number_5 = 30 \n",
    "\n",
    "\n",
    "\n",
    "print(f'1.  {number_3}  < {number_4}   :  {number_3 < number_4}')\n",
    "print(f'2.  {number_3}  < {number_5}   :  {number_3 < number_5}')\n",
    "\n",
    "print(f'3.  {number_4}  > {number_5}   :  {number_4 > number_5}')\n",
    "print(f'4.  {number_5}  < {number_4}   :  {number_5 > number_4}')\n",
    "\n",
    "print(f'5.  {number_3}  == {number_3}  :  {number_3 == number_3}')\n",
    "print(f'6.  {number_3}  == {number_4}  :  {number_3 == number_4}')\n",
    "\n",
    "print(f'7.  {number_5}  <= {number_4}  :  {number_5 <= number_4}')\n",
    "print(f'8.  {number_5}  <= {number_5}  :  {number_5 <= number_5}')\n",
    "\n",
    "print(f'9.  {number_3}  >= {number_4}  :  {number_3 >= number_4}')\n",
    "print(f'10. {number_4}  >= {number_5}  :  {number_4 >= number_5}')\n",
    "\n",
    "print(f'11. {number_4}  != {number_3}  :  {number_4 != number_3}')\n",
    "print(f'12. {number_4}  != {number_5}  :  {number_4 != number_5}')"
   ]
  },
  {
   "attachments": {},
   "cell_type": "markdown",
   "metadata": {},
   "source": [
    "### Logical Operations \n",
    "    True    and   True    ----->  True \n",
    "    False   and   False   ----->  True  \n",
    "    True    and   False   ----->  False \n",
    "    False   and   True    ----->  False  \n",
    "\n",
    "    True    or   True     ----->  False \n",
    "    False   or   False    ----->  False  \n",
    "    True    or   False    ----->  True \n",
    "    False   or   True     ----->  True  \n"
   ]
  },
  {
   "cell_type": "code",
   "execution_count": 11,
   "metadata": {},
   "outputs": [
    {
     "name": "stdout",
     "output_type": "stream",
     "text": [
      "1 :   True\n",
      "2 :   True\n",
      "3 :   False\n",
      "4 :   False\n",
      "5 :   False\n",
      "6 :   False\n"
     ]
    }
   ],
   "source": [
    "number_6 = 5\n",
    "number_7 = 2\n",
    "number_8 = 10\n",
    "\n",
    "\n",
    "print('1 :  ', (number_6 > number_7) and (number_6 < number_8))\n",
    "print('2 :  ', (number_6 > number_8) or (number_6 < number_8))\n",
    "print('3 :  ', not ((number_6 > number_7) and (number_6 < number_8)))\n",
    "print('4 :  ', not (number_6 > number_8 or number_6 < number_8))\n",
    "print('5 :  ', (not (number_8 > number_7)) or number_8 < number_8)\n",
    "print('6 :  ', (not (number_6 > number_7)) and (number_8 < number_8) and  (not (number_6 < number_7) )) \n",
    "\n"
   ]
  }
 ],
 "metadata": {
  "kernelspec": {
   "display_name": "deeplearning",
   "language": "python",
   "name": "python3"
  },
  "language_info": {
   "codemirror_mode": {
    "name": "ipython",
    "version": 3
   },
   "file_extension": ".py",
   "mimetype": "text/x-python",
   "name": "python",
   "nbconvert_exporter": "python",
   "pygments_lexer": "ipython3",
   "version": "3.8.13"
  },
  "orig_nbformat": 4,
  "vscode": {
   "interpreter": {
    "hash": "6a29e2c6032db948d2ac4841a3008c24c124c9d60225cd5bb2e940e04b511554"
   }
  }
 },
 "nbformat": 4,
 "nbformat_minor": 2
}
