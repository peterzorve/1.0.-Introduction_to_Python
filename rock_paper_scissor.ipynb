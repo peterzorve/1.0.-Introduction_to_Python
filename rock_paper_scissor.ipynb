{
 "cells": [
  {
   "attachments": {},
   "cell_type": "markdown",
   "metadata": {},
   "source": [
    "### Rock Paper Scissor"
   ]
  },
  {
   "cell_type": "code",
   "execution_count": 3,
   "metadata": {},
   "outputs": [
    {
     "name": "stdout",
     "output_type": "stream",
     "text": [
      "\n",
      "Computer : rock     -   Peter : rock      ==>  Draw\n",
      "Computer : paper    -   Peter : paper     ==>  Draw\n",
      "Computer : rock     -   Peter : paper     ==>  Peter wins\n",
      "Computer : scissor  -   Peter : paper     ==>  Computer wins\n",
      "Computer : scissor  -   Peter : paper     ==>  Computer wins\n",
      "Computer : scissor  -   Peter : rock      ==>  Peter wins\n",
      "Computer : rock     -   Peter : paper     ==>  Peter wins\n",
      "Computer : rock     -   Peter : scissor   ==>  Computer wins\n",
      "Computer : scissor  -   Peter : rock      ==>  Peter wins\n",
      "Computer : paper    -   Peter : scissor   ==>  Peter wins\n",
      "Computer : scissor  -   Peter : scissor   ==>  Draw\n",
      "Computer : scissor  -   Peter : paper     ==>  Computer wins\n",
      "Computer : scissor  -   Peter : rock      ==>  Peter wins\n",
      "Computer : paper    -   Peter : scissor   ==>  Peter wins\n",
      "Computer : rock     -   Peter : scissor   ==>  Computer wins\n"
     ]
    }
   ],
   "source": [
    "import numpy as np  \n",
    "\n",
    "def rock_paper_scissor():\n",
    "    options = ['rock', 'paper', 'scissor']\n",
    "\n",
    "    co_c, my_c = options[np.random.randint(0, 3)], options[np.random.randint(0, 3)] \n",
    "\n",
    "    if co_c == my_c: \n",
    "        outcome = f\"Computer : {co_c :7}  -   Peter : {my_c :8}  ==>  Draw\"\n",
    "\n",
    "    if ((co_c == 'rock') and (my_c == 'scissor')) or ((co_c == 'scissor') and (my_c == 'paper')) or ((co_c == 'paper') and (my_c == 'rock')):\n",
    "        outcome = f\"Computer : {co_c :7}  -   Peter : {my_c :8}  ==>  Computer wins\"\n",
    "    \n",
    "    if ((co_c == 'paper') and (my_c == 'scissor')) or ((co_c == 'scissor') and (my_c == 'rock')) or ((co_c == 'rock') and (my_c == 'paper')):\n",
    "        outcome = f\"Computer : {co_c :7}  -   Peter : {my_c :8}  ==>  Peter wins\"\n",
    "\n",
    "    return outcome\n",
    "\n",
    "\n",
    "print()\n",
    "for i in range(15):\n",
    "    print(rock_paper_scissor())\n",
    "\n",
    "\n"
   ]
  },
  {
   "cell_type": "code",
   "execution_count": 4,
   "metadata": {},
   "outputs": [
    {
     "name": "stdout",
     "output_type": "stream",
     "text": [
      "You: \t\tPaper \n",
      "Computer: \tRock \n",
      "Result:  \tYou WON\n"
     ]
    }
   ],
   "source": [
    "import random \n",
    "\n",
    "def rock_paper_scissor(choice):\n",
    "\n",
    "    options = ['rock', 'paper', 'scissor']\n",
    "    random_int = random.randint(0, 2)\n",
    "    comp_choice = options[random_int]\n",
    "\n",
    "    if choice == comp_choice:\n",
    "        print(f'You: \\t\\t{choice.capitalize()} \\nComputer: \\t{comp_choice.capitalize()} \\nResult:  \\tDraw')\n",
    "\n",
    "    if (choice == 'scissor' and comp_choice == 'paper') or (choice == 'rock' and comp_choice == 'scissor') or (choice == 'paper' and comp_choice == 'rock'):\n",
    "        print(f'You: \\t\\t{choice.capitalize()} \\nComputer: \\t{comp_choice.capitalize()} \\nResult:  \\tYou WON')\n",
    "\n",
    "    if (choice == 'paper' and comp_choice == 'scissor') or (choice == 'scissor' and comp_choice == 'rock') or (choice == 'rock' and comp_choice == 'paper'):\n",
    "        print(f'You: \\t\\t{choice.capitalize()} \\nComputer: \\t{comp_choice.capitalize()} \\nResult:  \\tComputer WON')\n",
    "\n",
    "    return \n",
    "\n",
    "rock_paper_scissor('paper')"
   ]
  },
  {
   "cell_type": "code",
   "execution_count": 5,
   "metadata": {},
   "outputs": [
    {
     "name": "stdout",
     "output_type": "stream",
     "text": [
      "You Score: \t\t15 \n",
      "Computer Score: \t10 \n",
      "No. of Draws:     \t15\n"
     ]
    }
   ],
   "source": [
    "def rock_paper_scissor(choice, number):\n",
    "\n",
    "    options = ['rock', 'paper', 'scissor']\n",
    "    # random_int = random.randint(0, 2)\n",
    "    # comp_choice = options[random_int]\n",
    "\n",
    "    number_draw, your_score, computer_score = 0, 0, 0\n",
    "\n",
    "    for i in range(number):\n",
    "        random_int = random.randint(0, 2)\n",
    "        comp_choice = options[random_int]\n",
    "\n",
    "        if choice == comp_choice:\n",
    "            number_draw += 1 \n",
    "\n",
    "        if (choice == 'scissor' and comp_choice == 'paper') or (choice == 'rock' and comp_choice == 'scissor') or (choice == 'paper' and comp_choice == 'rock'):\n",
    "            your_score += 1\n",
    "\n",
    "        if (choice == 'paper' and comp_choice == 'scissor') or (choice == 'scissor' and comp_choice == 'rock') or (choice == 'rock' and comp_choice == 'paper'):\n",
    "            computer_score += 1\n",
    "\n",
    "    print(f'You Score: \\t\\t{your_score} \\nComputer Score: \\t{computer_score} \\nNo. of Draws:     \\t{number_draw}')\n",
    "\n",
    "    return \n",
    "\n",
    "rock_paper_scissor('paper', 40)"
   ]
  },
  {
   "cell_type": "code",
   "execution_count": null,
   "metadata": {},
   "outputs": [],
   "source": []
  }
 ],
 "metadata": {
  "kernelspec": {
   "display_name": "deeplearning",
   "language": "python",
   "name": "python3"
  },
  "language_info": {
   "codemirror_mode": {
    "name": "ipython",
    "version": 3
   },
   "file_extension": ".py",
   "mimetype": "text/x-python",
   "name": "python",
   "nbconvert_exporter": "python",
   "pygments_lexer": "ipython3",
   "version": "3.8.13"
  },
  "orig_nbformat": 4,
  "vscode": {
   "interpreter": {
    "hash": "6a29e2c6032db948d2ac4841a3008c24c124c9d60225cd5bb2e940e04b511554"
   }
  }
 },
 "nbformat": 4,
 "nbformat_minor": 2
}
